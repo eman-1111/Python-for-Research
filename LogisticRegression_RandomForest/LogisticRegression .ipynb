{
 "cells": [
  {
   "cell_type": "markdown",
   "metadata": {},
   "source": [
    "# LogisticRegression \n",
    "\n",
    "We'll start by generating data from two separate two-dimensional normal distributions.\n",
    "So, we're dealing here with a setting where we have two predictors, x1 and x2.\n",
    "Our goal is to simulate data from two normal distributions."
   ]
  },
  {
   "cell_type": "code",
   "execution_count": 2,
   "metadata": {},
   "outputs": [],
   "source": [
    "import numpy as np\n",
    "import scipy.stats as ss\n",
    "import matplotlib.pyplot as plt\n",
    "%matplotlib notebook\n",
    "\n",
    "from sklearn.linear_model import LinearRegression\n",
    "from sklearn.model_selection import train_test_split"
   ]
  },
  {
   "cell_type": "code",
   "execution_count": 3,
   "metadata": {},
   "outputs": [],
   "source": [
    "def gen_data(n, h, sd1, sd2):\n",
    "    x1 = ss.norm.rvs(-h, sd1, n)# (h\"mean\", standard deviation, size)\n",
    "    y1 = ss.norm.rvs(0, sd1, n)\n",
    "    x2 = ss.norm.rvs(h, sd2, n) # h is distance from the origin.\n",
    "    y2 = ss.norm.rvs(0, sd2, n)\n",
    "    return (x1, y1, x2, y2)\n",
    "\n",
    "(x1, y1, x2, y2) = gen_data(1000, 1.5, 1, 1.5)"
   ]
  },
  {
   "cell_type": "code",
   "execution_count": 4,
   "metadata": {},
   "outputs": [
    {
     "data": {
      "image/png": "[encoded data removed]",
      "text/plain": [
       "<Figure size 432x288 with 1 Axes>"
      ]
     },
     "metadata": {
      "needs_background": "light"
     },
     "output_type": "display_data"
    }
   ],
   "source": [
    "def plot_data(x1, y1, x2, y2):\n",
    "    plt.figure()\n",
    "    plt.plot(x1, y1, \"o\", ms = 2)\n",
    "    plt.plot(x2, y2, \"o\", ms = 2)\n",
    "    plt.xlabel(\"$X$\")\n",
    "    plt.xlabel(\"$Y$\")\n",
    "plot_data(x1, y1, x2, y2)    "
   ]
  },
  {
   "cell_type": "code",
   "execution_count": 5,
   "metadata": {},
   "outputs": [],
   "source": [
    "from sklearn.linear_model import LogisticRegression\n",
    "clf = LogisticRegression()"
   ]
  },
  {
   "cell_type": "markdown",
   "metadata": {},
   "source": [
    "When we stack **x and y** we get two rows and 1,000 columns.\n",
    "But instead, we want the transpose of this**T**.\n"
   ]
  },
  {
   "cell_type": "code",
   "execution_count": 6,
   "metadata": {},
   "outputs": [],
   "source": [
    "X = np.vstack((np.vstack((x1,y1)).T , np.vstack((x2,y2)).T))"
   ]
  },
  {
   "cell_type": "code",
   "execution_count": 7,
   "metadata": {},
   "outputs": [
    {
     "data": {
      "text/plain": [
       "(2000, 2)"
      ]
     },
     "execution_count": 7,
     "metadata": {},
     "output_type": "execute_result"
    }
   ],
   "source": [
    "X.shape"
   ]
  },
  {
   "cell_type": "markdown",
   "metadata": {},
   "source": [
    "We need to generate the outcome vector y. Use the np.repeat function.\n",
    "So we have n observations coming from class 1 and we have the same number of observations coming from class 2.\n"
   ]
  },
  {
   "cell_type": "code",
   "execution_count": 8,
   "metadata": {},
   "outputs": [],
   "source": [
    "n = 1000\n",
    "y = np.hstack((np.repeat(1,n), np.repeat(2,n)))"
   ]
  },
  {
   "cell_type": "code",
   "execution_count": 9,
   "metadata": {},
   "outputs": [
    {
     "data": {
      "text/plain": [
       "(2000,)"
      ]
     },
     "execution_count": 9,
     "metadata": {},
     "output_type": "execute_result"
    }
   ],
   "source": [
    "y.shape"
   ]
  },
  {
   "cell_type": "code",
   "execution_count": 10,
   "metadata": {},
   "outputs": [
    {
     "name": "stderr",
     "output_type": "stream",
     "text": [
      "/Users/owner/anaconda3/lib/python3.6/site-packages/sklearn/model_selection/_split.py:2069: FutureWarning: From version 0.21, test_size will always complement train_size unless both are specified.\n",
      "  FutureWarning)\n"
     ]
    }
   ],
   "source": [
    "X_train, X_test, y_train, y_test = train_test_split(X, y, train_size = 0.5, random_state=1)"
   ]
  },
  {
   "cell_type": "code",
   "execution_count": 11,
   "metadata": {},
   "outputs": [
    {
     "name": "stderr",
     "output_type": "stream",
     "text": [
      "/Users/owner/anaconda3/lib/python3.6/site-packages/sklearn/linear_model/logistic.py:432: FutureWarning: Default solver will be changed to 'lbfgs' in 0.22. Specify a solver to silence this warning.\n",
      "  FutureWarning)\n"
     ]
    },
    {
     "data": {
      "text/plain": [
       "LogisticRegression(C=1.0, class_weight=None, dual=False, fit_intercept=True,\n",
       "          intercept_scaling=1, max_iter=100, multi_class='warn',\n",
       "          n_jobs=None, penalty='l2', random_state=None, solver='warn',\n",
       "          tol=0.0001, verbose=0, warm_start=False)"
      ]
     },
     "execution_count": 11,
     "metadata": {},
     "output_type": "execute_result"
    }
   ],
   "source": [
    "clf.fit(X_train, y_train)"
   ]
  },
  {
   "cell_type": "markdown",
   "metadata": {},
   "source": [
    "out what is the score in other words, how well does the classifier perform."
   ]
  },
  {
   "cell_type": "code",
   "execution_count": 12,
   "metadata": {},
   "outputs": [
    {
     "data": {
      "text/plain": [
       "0.88"
      ]
     },
     "execution_count": 12,
     "metadata": {},
     "output_type": "execute_result"
    }
   ],
   "source": [
    "clf.score(X_test,y_test)"
   ]
  },
  {
   "cell_type": "markdown",
   "metadata": {},
   "source": [
    "We have two classes, class 1 and class 2.\n",
    "The output is is a 0.97 probability that this particular test\n",
    "point belongs to class 1,And there is a 0.02  probability that it belongs to class 2, these two probabilities, of course, have to add up to 1."
   ]
  },
  {
   "cell_type": "code",
   "execution_count": 13,
   "metadata": {},
   "outputs": [
    {
     "data": {
      "text/plain": [
       "array([[0.96943191, 0.03056809]])"
      ]
     },
     "execution_count": 13,
     "metadata": {},
     "output_type": "execute_result"
    }
   ],
   "source": [
    "clf.predict_proba(np.array([-2, 0]).reshape(1,-1))"
   ]
  },
  {
   "cell_type": "code",
   "execution_count": 14,
   "metadata": {},
   "outputs": [
    {
     "data": {
      "text/plain": [
       "array([1])"
      ]
     },
     "execution_count": 14,
     "metadata": {},
     "output_type": "execute_result"
    }
   ],
   "source": [
    "clf.predict(np.array([-2, 0]).reshape(1,-1))"
   ]
  },
  {
   "cell_type": "code",
   "execution_count": 15,
   "metadata": {},
   "outputs": [],
   "source": [
    "def plot_probs(ax, clf, class_no):\n",
    "    #we use the meshgrid for creating two matrix and to specify the range of values from minus 5 to plus 5\n",
    "    #in increments of 0.1, and we do the same for the second variable x2.\n",
    "    xx1, xx2 = np.meshgrid(np.arange(-5, 5, 0.1), np.arange(-5, 5, 0.1))\n",
    "    # use ravel to turn matrix matrix to vector, and then stack the two new vector together, then we \"predict_proba\" of the points\n",
    "    probs = clf.predict_proba(np.stack((xx1.ravel(), xx2.ravel()), axis=1))\n",
    "    #take pro of one class \n",
    "    Z = probs[:,class_no]\n",
    "    # we want to plot these on an x1, x2 plane, and z is going to be a long column vector.\n",
    "    #We therefore use the reshape function, which takes z and turns it into the shape of xx1.\n",
    "    Z = Z.reshape(xx1.shape)\n",
    "    #the contourf function  plot the value of z at locations that are specified by xx1 and xx2.\n",
    "    CS = ax.contourf(xx1, xx2, Z)\n",
    "    cbar = plt.colorbar(CS)\n",
    "    plt.xlabel(\"$X_1$\")\n",
    "    plt.ylabel(\"$X_2$\")"
   ]
  },
  {
   "cell_type": "code",
   "execution_count": 16,
   "metadata": {},
   "outputs": [
    {
     "data": {
      "image/png": "[encoded data removed]",
      "text/plain": [
       "<Figure size 360x576 with 4 Axes>"
      ]
     },
     "metadata": {
      "needs_background": "light"
     },
     "output_type": "display_data"
    }
   ],
   "source": [
    "plt.figure(figsize=(5,8))\n",
    "ax = plt.subplot(211)\n",
    "plot_probs(ax, clf, 0)\n",
    "plt.title(\"Pred. prob for class 1\")\n",
    "ax = plt.subplot(212)\n",
    "plot_probs(ax, clf, 1)\n",
    "plt.title(\"Pred. prob for class 2\");"
   ]
  },
  {
   "cell_type": "markdown",
   "metadata": {},
   "source": [
    "We want to compute probabilitiesat for every point of the x1-x2 grid.\n",
    "\n",
    "The first output matrix is going to give us the x1 coordinate at all of these grid points, and the second one is going to give us the x2 coordinate at the same grid points."
   ]
  },
  {
   "cell_type": "code",
   "execution_count": 24,
   "metadata": {},
   "outputs": [
    {
     "data": {
      "text/plain": [
       "array([9.99866114e-01, 1.33886346e-04])"
      ]
     },
     "execution_count": 24,
     "metadata": {},
     "output_type": "execute_result"
    }
   ],
   "source": [
    "xx1, xx2 = np.meshgrid(np.arange(-5, 5, 0.1), np.arange(-5, 5, 0.1))\n",
    "    # use ravel to turn matrix matrix to vector, and then stack the two new vector together, then we \"predict_proba\" of the points\n",
    "probs = clf.predict_proba(np.stack((xx1.ravel(), xx2.ravel()), axis=1))\n",
    "\n",
    "    "
   ]
  },
  {
   "cell_type": "markdown",
   "metadata": {},
   "source": [
    "In this case, where the training data in each class are generated from bivariate Gaussian distributions, it turns out that a linear decision boundary is the best one can do.\n",
    "\n",
    "If we had more than two Gaussian distributions generating the data, then the optimal decision boundary would be non-linear and generally, a linear model would usually not do a good job.\n"
   ]
  },
  {
   "cell_type": "markdown",
   "metadata": {},
   "source": [
    "# Random forest\n",
    "is a powerful method for regression and classification.\n",
    "\n",
    "The random forest method makes use of several trees when making its prediction, and since in graph theory, a collection of trees is called a forest, in other words, to make a prediction, the random forest considers the predictions of several trees.\n",
    "It would not, however, be useful to have many identical trees because all these trees would presumably give you the same prediction, this is why the trees in the forest are randomized.\n",
    "\n",
    "Tree-based methods can be used for regression and classification, these methods involve dividing the predictor space\n",
    "into simpler regions using straight lines,so we first take the entire predictor space and divide it into two regions.\n",
    "We now in turn look at each of these two smaller regions, divide them into yet smaller regions, and so on,\n",
    "continuing until we hit some stopping criteria.\n",
    "\n",
    "So the way we divide the predictor space into smaller regions is recursive in nature,to make a prediction for a previously unseen test observation, we find the region of the predictor space where the test observation falls.\n",
    "In the **regression** setting, we return the **mean** of the outcomes of the training observations in that particular region, whereas in a **classification** setting we return the **mode**, the most common element of the outcomes of the training observations in that region.\n",
    "\n",
    "When we use lines to divide the predictor space into regions, these lines must be aligned with the directions\n",
    "of the axes of the predictor space, and because of this constraint, we can summarize the splitting rules\n",
    "in a tree.\n",
    "\n",
    "This is also why these methods are known as decision tree methods.\n",
    "In higher dimensions, these lines become planes,so we end up dividing the predictor space into high-dimensional rectangles or boxes.\n",
    "\n",
    "How do we decide where to make these cuts? The basic idea is that we'd like to carve out regions in the predictor space that are maximally homogeneous in terms of their outcomes.\n",
    "Remember, we'll ultimately use the mean or the mode of the outcomes falling in a given region as our predicted outcome for an unseen observation, so we can minimize error by finding maximally homogeneous regions in the predictor space.\n",
    "Whenever we make a split, we consider all predictors from x1 to xp, and for each predictor, we consider all possible cut points.\n",
    "We choose the predictor - cut point combination such that the resulting division of the predictor space has the lowest value of some criterion, usually called a loss function, that we're trying to minimize.\n",
    "In **regression**, this loss function is usually **RSS**, the residual sum of squares.\n",
    "In **classification**, two measures are commonly used, called the **Gini index** and the **cross-entropy**, the basic idea is, again, to make cuts using a predictor cut point combination that makes the classes within each region\n",
    "as homogeneous as possible.\n",
    "\n",
    "**Bagging**, in the context of decision trees, means that we draw a number of bootstrap datasets and fit each to a tree.rest\n",
    "\n",
    "Let's consider a simple example, We start from some dataset having 1,000 observations, and we have 9 predictors from x1 through x9.\n",
    "We want to build, say, 50 trees, so let's randomize the data first, We first draw 50 bootstrap samples from the original data and dedicate a separate tree for each dataset. We then fit the trees one by one.\n",
    "Starting from the first tree and the first cut, we first determine which predictors to use.\n",
    "If we're allowed to use, say, three predictors when making a cut, we might be allowed to use x3, x7, and, say, x8 for the first cut.\n",
    "We make the best cut we can given the data and these three predictors, and we then move the second cut in the first tree.\n",
    "This time we might be allowed to use predictors x1, x5, and x7. And again, we find the best cut.We proceed until we fit the first three, meaning until we fit whatever stopping criterion we have, We then continue the same way until we get all of the trees in the forest."
   ]
  },
  {
   "cell_type": "code",
   "execution_count": 1,
   "metadata": {},
   "outputs": [],
   "source": [
    "from sklearn.ensemble import RandomForestRegressor\n",
    "from sklearn.ensemble import RandomForestClassifier"
   ]
  }
 ],
 "metadata": {
  "kernelspec": {
   "display_name": "Python 3",
   "language": "python",
   "name": "python3"
  },
  "language_info": {
   "codemirror_mode": {
    "name": "ipython",
    "version": 3
   },
   "file_extension": ".py",
   "mimetype": "text/x-python",
   "name": "python",
   "nbconvert_exporter": "python",
   "pygments_lexer": "ipython3",
   "version": "3.6.6"
  }
 },
 "nbformat": 4,
 "nbformat_minor": 2
}
