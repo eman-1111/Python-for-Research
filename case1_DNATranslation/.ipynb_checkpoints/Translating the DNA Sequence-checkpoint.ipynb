{
 "cells": [
  {
   "cell_type": "markdown",
   "metadata": {},
   "source": [
    "# DNA Translation\n",
    "Life depends on the ability of cells to store, retrieve, and translate genetic instructions.\n",
    "These instructions are needed to make and maintain living organisms.\n",
    "For a long time, it was not clear what molecules were able to copy and transmit genetic information.\n",
    "We now know that this information is carried by the dioxyribonucleic acid or DNA in all living things.\n",
    "DNA is a discrete code physically present in almost every cell of an organism.\n",
    "We can think of DNA as a one dimensional string of characterswith four characters to choose from.\n",
    "These characters are A, C, G, and T. Theystand for the first letters with the four nucleotides used to construct DNA.\n",
    "The full names of these nucleotides are adenine, cytosine, guanine, and thymine.\n",
    "Each unique three character sequence of nucleotides,sometimes called a nucleotide triplet, corresponds to one amino acid.\n",
    "The sequence of amino acids is unique for each type of protein and all proteins are built from the same set of just 20 amino acids for all living things.\n",
    "Protein molecules dominate the behavior of the cell serving as structural supports, chemical catalysts, molecular motors, and so on.\n",
    "The so called central dogma of molecular biology describes the flow of genetic information in a biological system.\n",
    "Instructions in the DNA are first transcribed into RNA and the RNA is then translated into proteins.\n",
    "We can think of DNA, when read as sequences of three letters, as a dictionary of life.\n",
    "In this case study, we will first download a DNA strand as a text file from a public web-based repository of DNA sequences.\n",
    "We will then write code to translate the DNA sequence"
   ]
  },
  {
   "cell_type": "code",
   "execution_count": 1,
   "metadata": {},
   "outputs": [],
   "source": [
    "\n",
    "def translate(seq):\n",
    "    \"\"\"Translate a String con 3.1.4\"\"\"\n",
    "    table = {\n",
    "    'ATA':'I', 'ATC':'I', 'ATT':'I', 'ATG':'M',\n",
    "    'ACA':'T', 'ACC':'T', 'ACG':'T', 'ACT':'T',\n",
    "    'AAC':'N', 'AAT':'N', 'AAA':'K', 'AAG':'K',\n",
    "    'AGC':'S', 'AGT':'S', 'AGA':'R', 'AGG':'R',\n",
    "    'CTA':'L', 'CTC':'L', 'CTG':'L', 'CTT':'L',\n",
    "    'CCA':'P', 'CCC':'P', 'CCG':'P', 'CCT':'P',\n",
    "    'CAC':'H', 'CAT':'H', 'CAA':'Q', 'CAG':'Q',\n",
    "    'CGA':'R', 'CGC':'R', 'CGG':'R', 'CGT':'R',\n",
    "    'GTA':'V', 'GTC':'V', 'GTG':'V', 'GTT':'V',\n",
    "    'GCA':'A', 'GCC':'A', 'GCG':'A', 'GCT':'A',\n",
    "    'GAC':'D', 'GAT':'D', 'GAA':'E', 'GAG':'E',\n",
    "    'GGA':'G', 'GGC':'G', 'GGG':'G', 'GGT':'G',\n",
    "    'TCA':'S', 'TCC':'S', 'TCG':'S', 'TCT':'S',\n",
    "    'TTC':'F', 'TTT':'F', 'TTA':'L', 'TTG':'L',\n",
    "    'TAC':'Y', 'TAT':'Y', 'TAA':'_', 'TAG':'_',\n",
    "    'TGC':'C', 'TGT':'C', 'TGA':'_', 'TGG':'W',}\n",
    "    #check that the sequence length is divisible by 3\n",
    "        # loop over the sequence\n",
    "            #extract a codon\n",
    "            #look up the codon and store the result\n",
    "    protein = \"\"\n",
    "    if len(seq) % 3 == 0:\n",
    "        for i in range(0,len(seq),3):\n",
    "            codon = seq[i:i+3]\n",
    "            protein += table[codon]\n",
    "    return protein\n",
    "            "
   ]
  },
  {
   "cell_type": "code",
   "execution_count": 2,
   "metadata": {},
   "outputs": [],
   "source": [
    "def read_seq(inputfile):\n",
    "    \"\"\"Reads and returns the input sequence with special characters removed\"\"\"\n",
    "    with open(inputfile, \"r\") as f:\n",
    "        seq = f.read()\n",
    "    seq = seq.replace(\"\\n\", \"\")\n",
    "    seq = seq.replace(\"\\r\", \"\")\n",
    "    return seq"
   ]
  },
  {
   "cell_type": "code",
   "execution_count": 3,
   "metadata": {},
   "outputs": [],
   "source": [
    "dna = read_seq(\"dna.txt\")   \n",
    "prt =  read_seq(\"protein.txt\")           \n"
   ]
  },
  {
   "cell_type": "markdown",
   "metadata": {},
   "source": [
    "If we go to NCBI WEB PAGE https://www.ncbi.nlm.nih.gov/nuccore/NM_201917.1 \n",
    "If you look at the website where it says CDS, you will see two numbers next to it, 21 and 938.\n",
    "These are the locations of the gene where the coding sequence starts and ends.\n",
    "So instead of taking the entire DNA sequence, we will translation starting at position 21\n",
    "and ending at 938.\n",
    "However, we need to be careful with the indices.If you investigate the NCBI website, you will\n",
    "see that the sequence positions are numbered from 1 to 1157.\n",
    "so genome positions 21 and 938 correspond to Python string positions 20 and 937. So the starting point of the string slice will be 20,but the stopping location of the string is 938."
   ]
  },
  {
   "cell_type": "code",
   "execution_count": 4,
   "metadata": {},
   "outputs": [
    {
     "data": {
      "text/plain": [
       "'MSTHDTSLKTTEEVAFQIILLCQFGVGTFANVFLFVYNFSPISTGSKQRPRQVILRHMAVANALTLFLTIFPNNMMTFAPIIPQTDLKCKLEFFTRLVARSTNLCSTCVLSIHQFVTLVPVNSGKGILRASVTNMASYSCYSCWFFSVLNNIYIPIKVTGPQLTDNNNNSKSKLFCSTSDFSVGIVFLRFAHDATFMSIMVWTSVSMVLLLHRHCQRMQYIFTLNQDPRGQAETTATHTILMLVVTFVGFYLLSLICIIFYTYFIYSHHSLRHCNDILVSGFPTISPLLLTFRDPKGPCSVFFNC_'"
      ]
     },
     "execution_count": 4,
     "metadata": {},
     "output_type": "execute_result"
    }
   ],
   "source": [
    "translate(dna[20:938])\n"
   ]
  },
  {
   "cell_type": "markdown",
   "metadata": {},
   "source": [
    "There is an underscore character that appears at the end of our translated sequence.\n",
    " At the very end of a protein coding sequence, nature places what's called a stop codon.\n",
    "There are three stop codons, and their function is to tell someone reading the sequence that this is where you should stop reading.It's almost like an end of paragraph sign.\n",
    "The stop codon is not included in the downloaded protein, because it's usually not of interest.\n",
    "So we will just remove it"
   ]
  },
  {
   "cell_type": "code",
   "execution_count": 5,
   "metadata": {},
   "outputs": [
    {
     "data": {
      "text/plain": [
       "'MSTHDTSLKTTEEVAFQIILLCQFGVGTFANVFLFVYNFSPISTGSKQRPRQVILRHMAVANALTLFLTIFPNNMMTFAPIIPQTDLKCKLEFFTRLVARSTNLCSTCVLSIHQFVTLVPVNSGKGILRASVTNMASYSCYSCWFFSVLNNIYIPIKVTGPQLTDNNNNSKSKLFCSTSDFSVGIVFLRFAHDATFMSIMVWTSVSMVLLLHRHCQRMQYIFTLNQDPRGQAETTATHTILMLVVTFVGFYLLSLICIIFYTYFIYSHHSLRHCNDILVSGFPTISPLLLTFRDPKGPCSVFFNC'"
      ]
     },
     "execution_count": 5,
     "metadata": {},
     "output_type": "execute_result"
    }
   ],
   "source": [
    "translate(dna[20:938])[:-1]"
   ]
  },
  {
   "cell_type": "code",
   "execution_count": null,
   "metadata": {},
   "outputs": [],
   "source": []
  }
 ],
 "metadata": {
  "kernelspec": {
   "display_name": "Python 3",
   "language": "python",
   "name": "python3"
  },
  "language_info": {
   "codemirror_mode": {
    "name": "ipython",
    "version": 3
   },
   "file_extension": ".py",
   "mimetype": "text/x-python",
   "name": "python",
   "nbconvert_exporter": "python",
   "pygments_lexer": "ipython3",
   "version": "3.7.0"
  }
 },
 "nbformat": 4,
 "nbformat_minor": 2
}
